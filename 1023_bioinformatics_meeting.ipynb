{
 "metadata": {
  "name": "1023_bioinformatics_meeting"
 },
 "nbformat": 3,
 "nbformat_minor": 0,
 "worksheets": [
  {
   "cells": [
    {
     "cell_type": "code",
     "collapsed": false,
     "input": [
      "#To be able to read csv formated files, we will first have to import the\n",
      "#csv module.\n",
      "import csv\n",
      "f= open('20130906_All_Cows and Heifers Coussens study.csv', 'rb') \n",
      "reader = csv.reader(f)\n",
      "for row in reader:\n",
      "    print row\n",
      "    break\n",
      "    "
     ],
     "language": "python",
     "metadata": {},
     "outputs": [
      {
       "output_type": "stream",
       "stream": "stdout",
       "text": [
        "['Index', 'AgeMons_Ref', 'BLV Score', 'BLV MLK', 'SLM', 'JOHNES PCR-RFT', 'JOHNES RFT-PCR', 'JOHNES ELISA', 'BLV/BLD', 'Lact#', 'StatCdeDate', 'BdyCScr', 'ActNeeded', 'Grp', 'PrvGrp', 'DaysInCurGrp', 'Repr', 'InSckHrd', '', '', '', '']\n"
       ]
      }
     ],
     "prompt_number": 47
    },
    {
     "cell_type": "code",
     "collapsed": false,
     "input": [
      "file_obj = open('20130906_All_Cows and Heifers Coussens study.csv')\n",
      "file_cow = open('list_of_cows.csv')"
     ],
     "language": "python",
     "metadata": {},
     "outputs": [],
     "prompt_number": 48
    },
    {
     "cell_type": "code",
     "collapsed": false,
     "input": [
      "set_of_cow_id = set(file_cow.readline().strip().split('\\r')) # set is more efficient than list here.\n"
     ],
     "language": "python",
     "metadata": {},
     "outputs": [],
     "prompt_number": 49
    },
    {
     "cell_type": "code",
     "collapsed": false,
     "input": [
      "file_output_obj = open('out.txt','w') # open a file object to write into\n",
      "for line in file_obj:\n",
      "    fields = line.strip().split(',')\n",
      "    if fields[0] in set_of_cow_id and fields[3] == 'N': # this line works as a filter\n",
      "        file_output_obj.write(line)\n",
      "    \n",
      "        \n",
      "file_output_obj.close() # don't forget to close the file object. \n",
      "    \n",
      "    \n",
      "    "
     ],
     "language": "python",
     "metadata": {},
     "outputs": [],
     "prompt_number": 50
    }
   ],
   "metadata": {}
  }
 ]
}